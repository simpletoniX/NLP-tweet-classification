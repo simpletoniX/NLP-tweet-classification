{
 "cells": [
  {
   "cell_type": "code",
   "execution_count": 1,
   "id": "29c659a8-b4c6-4b41-9b33-4536bb9704d3",
   "metadata": {},
   "outputs": [],
   "source": [
    "import pandas as pd \n",
    "import numpy as np\n",
    "import ast \n",
    "import re\n",
    "from sklearn.model_selection import train_test_split\n",
    "from sklearn.preprocessing import LabelEncoder\n",
    "from sklearn.linear_model import LogisticRegression\n",
    "from sklearn.metrics import accuracy_score"
   ]
  },
  {
   "cell_type": "code",
   "execution_count": 2,
   "id": "fbef8eae",
   "metadata": {},
   "outputs": [],
   "source": [
    "# I decided to delete every features and also I use some methods to prepeare dataset"
   ]
  },
  {
   "cell_type": "code",
   "execution_count": 3,
   "id": "7896ba85-44d4-45a9-a786-60f19fdf6d65",
   "metadata": {},
   "outputs": [
    {
     "data": {
      "text/html": [
       "<div>\n",
       "<style scoped>\n",
       "    .dataframe tbody tr th:only-of-type {\n",
       "        vertical-align: middle;\n",
       "    }\n",
       "\n",
       "    .dataframe tbody tr th {\n",
       "        vertical-align: top;\n",
       "    }\n",
       "\n",
       "    .dataframe thead th {\n",
       "        text-align: right;\n",
       "    }\n",
       "</style>\n",
       "<table border=\"1\" class=\"dataframe\">\n",
       "  <thead>\n",
       "    <tr style=\"text-align: right;\">\n",
       "      <th></th>\n",
       "      <th>tweet_text</th>\n",
       "      <th>cyberbullying_type</th>\n",
       "    </tr>\n",
       "  </thead>\n",
       "  <tbody>\n",
       "    <tr>\n",
       "      <th>0</th>\n",
       "      <td>[1.3380374808906244, 1.935290637299976, 3.5895...</td>\n",
       "      <td>not_cyberbullying</td>\n",
       "    </tr>\n",
       "    <tr>\n",
       "      <th>1</th>\n",
       "      <td>[3.1678140826177534]</td>\n",
       "      <td>not_cyberbullying</td>\n",
       "    </tr>\n",
       "    <tr>\n",
       "      <th>2</th>\n",
       "      <td>[1.4315597259031223, 1.277337981497191, 1.1996...</td>\n",
       "      <td>not_cyberbullying</td>\n",
       "    </tr>\n",
       "    <tr>\n",
       "      <th>3</th>\n",
       "      <td>[0.8817225775670687, 0.5488634360610698, 0.578...</td>\n",
       "      <td>not_cyberbullying</td>\n",
       "    </tr>\n",
       "    <tr>\n",
       "      <th>4</th>\n",
       "      <td>[0.5462652009530785, 1.3437722489518684, 0.758...</td>\n",
       "      <td>not_cyberbullying</td>\n",
       "    </tr>\n",
       "  </tbody>\n",
       "</table>\n",
       "</div>"
      ],
      "text/plain": [
       "                                          tweet_text cyberbullying_type\n",
       "0  [1.3380374808906244, 1.935290637299976, 3.5895...  not_cyberbullying\n",
       "1                               [3.1678140826177534]  not_cyberbullying\n",
       "2  [1.4315597259031223, 1.277337981497191, 1.1996...  not_cyberbullying\n",
       "3  [0.8817225775670687, 0.5488634360610698, 0.578...  not_cyberbullying\n",
       "4  [0.5462652009530785, 1.3437722489518684, 0.758...  not_cyberbullying"
      ]
     },
     "execution_count": 3,
     "metadata": {},
     "output_type": "execute_result"
    }
   ],
   "source": [
    "df = pd.read_csv('/Users/tonix/PycharmProjects/pythonProject/Cyberbulling/csv/ready.csv')\n",
    "df.head()"
   ]
  },
  {
   "cell_type": "code",
   "execution_count": 4,
   "id": "fe60da87-8f2e-4bf3-b9ae-a2a9b49308df",
   "metadata": {},
   "outputs": [],
   "source": [
    "# >>> Creating input vectors"
   ]
  },
  {
   "cell_type": "code",
   "execution_count": 5,
   "id": "b0072f26",
   "metadata": {},
   "outputs": [],
   "source": [
    "# Convert string to arrays with float data\n",
    "df['tweet_text'] = df['tweet_text'].apply(lambda x: ast.literal_eval(x)) "
   ]
  },
  {
   "cell_type": "code",
   "execution_count": 6,
   "id": "aa3cff69",
   "metadata": {},
   "outputs": [
    {
     "name": "stdout",
     "output_type": "stream",
     "text": [
      "mean lenght: 12.035928521816\n",
      "outliers: 222\n"
     ]
    }
   ],
   "source": [
    "# Check outliers\n",
    "df['vector_length'] = df['tweet_text'].apply(len)\n",
    "\n",
    "mean_length = df['vector_length'].mean()\n",
    "outliers = df[df['vector_length'] > 30]\n",
    "\n",
    "print(f\"mean lenght: {mean_length}\")\n",
    "print(f\"outliers: {len(outliers)}\")"
   ]
  },
  {
   "cell_type": "code",
   "execution_count": 7,
   "id": "f23568a1",
   "metadata": {},
   "outputs": [],
   "source": [
    "df = df[df['vector_length'] < 30]"
   ]
  },
  {
   "cell_type": "code",
   "execution_count": 8,
   "id": "7e42cd15",
   "metadata": {},
   "outputs": [],
   "source": [
    "df = df.drop('vector_length', axis=1)"
   ]
  },
  {
   "cell_type": "code",
   "execution_count": 9,
   "id": "79f2713c-c795-4369-9d07-13df78e24971",
   "metadata": {},
   "outputs": [],
   "source": [
    "# >>> Labels\n",
    "labels = df.pop('cyberbullying_type')\n",
    "labels = labels.tolist()"
   ]
  },
  {
   "cell_type": "code",
   "execution_count": 10,
   "id": "8a4ae8f3",
   "metadata": {},
   "outputs": [],
   "source": [
    "encoder = LabelEncoder()\n",
    "\n",
    "labels = encoder.fit_transform(labels)"
   ]
  },
  {
   "cell_type": "code",
   "execution_count": 11,
   "id": "4ff42b22",
   "metadata": {},
   "outputs": [
    {
     "name": "stdout",
     "output_type": "stream",
     "text": [
      "['age' 'ethnicity' 'gender' 'not_cyberbullying' 'other_cyberbullying'\n",
      " 'religion']\n"
     ]
    }
   ],
   "source": [
    "print(encoder.classes_)"
   ]
  },
  {
   "cell_type": "code",
   "execution_count": 12,
   "id": "bac1956e-527d-4094-bb37-8dd0474e1d42",
   "metadata": {},
   "outputs": [],
   "source": [
    "input_vectors = [np.array(list) for list in df['tweet_text']]"
   ]
  },
  {
   "cell_type": "code",
   "execution_count": 13,
   "id": "ab7043a6",
   "metadata": {},
   "outputs": [],
   "source": [
    "# Filling with average number\n",
    "max_len = max(len(arr) for arr in input_vectors)\n",
    "\n",
    "def change_insufficiently_numbers(list):\n",
    "    # >>> Changing...\n",
    "    matrix = []\n",
    "    for arr in list:\n",
    "        \n",
    "        if len(arr) != 0:\n",
    "            difference = max_len - len(arr)\n",
    "            mean = np.mean(arr)\n",
    "        \n",
    "            arr_extended = np.append(arr, [mean] * difference)\n",
    "        matrix.append(arr_extended)\n",
    "        \n",
    "    return matrix"
   ]
  },
  {
   "cell_type": "code",
   "execution_count": 14,
   "id": "e25723a0",
   "metadata": {},
   "outputs": [],
   "source": [
    "# Apply this function to our data\n",
    "input_vectors = change_insufficiently_numbers(input_vectors)"
   ]
  },
  {
   "cell_type": "code",
   "execution_count": 15,
   "id": "37900f85-af30-4eab-a5f5-fe8ba78a65d7",
   "metadata": {},
   "outputs": [],
   "source": [
    "# Train, validation and test split \n",
    "x_train, x_test, y_train, y_test = train_test_split(input_vectors, labels, test_size=0.25, random_state=42)\n",
    "\n",
    "x_train, x_val, y_train, y_val = train_test_split(x_train, y_train, test_size=0.2, random_state=42)"
   ]
  },
  {
   "cell_type": "code",
   "execution_count": 16,
   "id": "02854bb1",
   "metadata": {},
   "outputs": [],
   "source": [
    "# >>> Model \n",
    "model = LogisticRegression(penalty='l2', C=10, fit_intercept=True, solver='lbfgs', max_iter=200)"
   ]
  },
  {
   "cell_type": "code",
   "execution_count": 17,
   "id": "117f00fa",
   "metadata": {},
   "outputs": [
    {
     "name": "stderr",
     "output_type": "stream",
     "text": [
      "/Users/tonix/anaconda3/lib/python3.11/site-packages/sklearn/linear_model/_logistic.py:460: ConvergenceWarning: lbfgs failed to converge (status=1):\n",
      "STOP: TOTAL NO. of ITERATIONS REACHED LIMIT.\n",
      "\n",
      "Increase the number of iterations (max_iter) or scale the data as shown in:\n",
      "    https://scikit-learn.org/stable/modules/preprocessing.html\n",
      "Please also refer to the documentation for alternative solver options:\n",
      "    https://scikit-learn.org/stable/modules/linear_model.html#logistic-regression\n",
      "  n_iter_i = _check_optimize_result(\n"
     ]
    },
    {
     "data": {
      "text/html": [
       "<style>#sk-container-id-1 {color: black;}#sk-container-id-1 pre{padding: 0;}#sk-container-id-1 div.sk-toggleable {background-color: white;}#sk-container-id-1 label.sk-toggleable__label {cursor: pointer;display: block;width: 100%;margin-bottom: 0;padding: 0.3em;box-sizing: border-box;text-align: center;}#sk-container-id-1 label.sk-toggleable__label-arrow:before {content: \"▸\";float: left;margin-right: 0.25em;color: #696969;}#sk-container-id-1 label.sk-toggleable__label-arrow:hover:before {color: black;}#sk-container-id-1 div.sk-estimator:hover label.sk-toggleable__label-arrow:before {color: black;}#sk-container-id-1 div.sk-toggleable__content {max-height: 0;max-width: 0;overflow: hidden;text-align: left;background-color: #f0f8ff;}#sk-container-id-1 div.sk-toggleable__content pre {margin: 0.2em;color: black;border-radius: 0.25em;background-color: #f0f8ff;}#sk-container-id-1 input.sk-toggleable__control:checked~div.sk-toggleable__content {max-height: 200px;max-width: 100%;overflow: auto;}#sk-container-id-1 input.sk-toggleable__control:checked~label.sk-toggleable__label-arrow:before {content: \"▾\";}#sk-container-id-1 div.sk-estimator input.sk-toggleable__control:checked~label.sk-toggleable__label {background-color: #d4ebff;}#sk-container-id-1 div.sk-label input.sk-toggleable__control:checked~label.sk-toggleable__label {background-color: #d4ebff;}#sk-container-id-1 input.sk-hidden--visually {border: 0;clip: rect(1px 1px 1px 1px);clip: rect(1px, 1px, 1px, 1px);height: 1px;margin: -1px;overflow: hidden;padding: 0;position: absolute;width: 1px;}#sk-container-id-1 div.sk-estimator {font-family: monospace;background-color: #f0f8ff;border: 1px dotted black;border-radius: 0.25em;box-sizing: border-box;margin-bottom: 0.5em;}#sk-container-id-1 div.sk-estimator:hover {background-color: #d4ebff;}#sk-container-id-1 div.sk-parallel-item::after {content: \"\";width: 100%;border-bottom: 1px solid gray;flex-grow: 1;}#sk-container-id-1 div.sk-label:hover label.sk-toggleable__label {background-color: #d4ebff;}#sk-container-id-1 div.sk-serial::before {content: \"\";position: absolute;border-left: 1px solid gray;box-sizing: border-box;top: 0;bottom: 0;left: 50%;z-index: 0;}#sk-container-id-1 div.sk-serial {display: flex;flex-direction: column;align-items: center;background-color: white;padding-right: 0.2em;padding-left: 0.2em;position: relative;}#sk-container-id-1 div.sk-item {position: relative;z-index: 1;}#sk-container-id-1 div.sk-parallel {display: flex;align-items: stretch;justify-content: center;background-color: white;position: relative;}#sk-container-id-1 div.sk-item::before, #sk-container-id-1 div.sk-parallel-item::before {content: \"\";position: absolute;border-left: 1px solid gray;box-sizing: border-box;top: 0;bottom: 0;left: 50%;z-index: -1;}#sk-container-id-1 div.sk-parallel-item {display: flex;flex-direction: column;z-index: 1;position: relative;background-color: white;}#sk-container-id-1 div.sk-parallel-item:first-child::after {align-self: flex-end;width: 50%;}#sk-container-id-1 div.sk-parallel-item:last-child::after {align-self: flex-start;width: 50%;}#sk-container-id-1 div.sk-parallel-item:only-child::after {width: 0;}#sk-container-id-1 div.sk-dashed-wrapped {border: 1px dashed gray;margin: 0 0.4em 0.5em 0.4em;box-sizing: border-box;padding-bottom: 0.4em;background-color: white;}#sk-container-id-1 div.sk-label label {font-family: monospace;font-weight: bold;display: inline-block;line-height: 1.2em;}#sk-container-id-1 div.sk-label-container {text-align: center;}#sk-container-id-1 div.sk-container {/* jupyter's `normalize.less` sets `[hidden] { display: none; }` but bootstrap.min.css set `[hidden] { display: none !important; }` so we also need the `!important` here to be able to override the default hidden behavior on the sphinx rendered scikit-learn.org. See: https://github.com/scikit-learn/scikit-learn/issues/21755 */display: inline-block !important;position: relative;}#sk-container-id-1 div.sk-text-repr-fallback {display: none;}</style><div id=\"sk-container-id-1\" class=\"sk-top-container\"><div class=\"sk-text-repr-fallback\"><pre>LogisticRegression(C=10, max_iter=200)</pre><b>In a Jupyter environment, please rerun this cell to show the HTML representation or trust the notebook. <br />On GitHub, the HTML representation is unable to render, please try loading this page with nbviewer.org.</b></div><div class=\"sk-container\" hidden><div class=\"sk-item\"><div class=\"sk-estimator sk-toggleable\"><input class=\"sk-toggleable__control sk-hidden--visually\" id=\"sk-estimator-id-1\" type=\"checkbox\" checked><label for=\"sk-estimator-id-1\" class=\"sk-toggleable__label sk-toggleable__label-arrow\">LogisticRegression</label><div class=\"sk-toggleable__content\"><pre>LogisticRegression(C=10, max_iter=200)</pre></div></div></div></div></div>"
      ],
      "text/plain": [
       "LogisticRegression(C=10, max_iter=200)"
      ]
     },
     "execution_count": 17,
     "metadata": {},
     "output_type": "execute_result"
    }
   ],
   "source": [
    "model.fit(x_train, y_train)"
   ]
  },
  {
   "cell_type": "code",
   "execution_count": 18,
   "id": "75306264",
   "metadata": {},
   "outputs": [
    {
     "data": {
      "text/plain": [
       "0.2958563145241126"
      ]
     },
     "execution_count": 18,
     "metadata": {},
     "output_type": "execute_result"
    }
   ],
   "source": [
    "val_pred = model.predict(x_val)\n",
    "val_accuracy = accuracy_score(y_val, val_pred)\n",
    "\n",
    "val_accuracy"
   ]
  },
  {
   "cell_type": "code",
   "execution_count": 19,
   "id": "49b0e797",
   "metadata": {},
   "outputs": [
    {
     "data": {
      "text/plain": [
       "0.28680526092490455"
      ]
     },
     "execution_count": 19,
     "metadata": {},
     "output_type": "execute_result"
    }
   ],
   "source": [
    "test_pred = model.predict(x_test)\n",
    "test_accuracy = accuracy_score(y_test, test_pred)\n",
    "\n",
    "test_accuracy"
   ]
  },
  {
   "cell_type": "code",
   "execution_count": null,
   "id": "d9b2bc52",
   "metadata": {},
   "outputs": [],
   "source": []
  }
 ],
 "metadata": {
  "kernelspec": {
   "display_name": "Python 3 (ipykernel)",
   "language": "python",
   "name": "python3"
  },
  "language_info": {
   "codemirror_mode": {
    "name": "ipython",
    "version": 3
   },
   "file_extension": ".py",
   "mimetype": "text/x-python",
   "name": "python",
   "nbconvert_exporter": "python",
   "pygments_lexer": "ipython3",
   "version": "3.11.5"
  }
 },
 "nbformat": 4,
 "nbformat_minor": 5
}

{
 "cells": [
  {
   "cell_type": "code",
   "execution_count": 1,
   "id": "29c659a8-b4c6-4b41-9b33-4536bb9704d3",
   "metadata": {},
   "outputs": [],
   "source": [
    "import pandas as pd \n",
    "import numpy as np\n",
    "import ast \n",
    "import re\n",
    "from sklearn.model_selection import train_test_split"
   ]
  },
  {
   "cell_type": "code",
   "execution_count": 2,
   "id": "7896ba85-44d4-45a9-a786-60f19fdf6d65",
   "metadata": {},
   "outputs": [
    {
     "data": {
      "text/html": [
       "<div>\n",
       "<style scoped>\n",
       "    .dataframe tbody tr th:only-of-type {\n",
       "        vertical-align: middle;\n",
       "    }\n",
       "\n",
       "    .dataframe tbody tr th {\n",
       "        vertical-align: top;\n",
       "    }\n",
       "\n",
       "    .dataframe thead th {\n",
       "        text-align: right;\n",
       "    }\n",
       "</style>\n",
       "<table border=\"1\" class=\"dataframe\">\n",
       "  <thead>\n",
       "    <tr style=\"text-align: right;\">\n",
       "      <th></th>\n",
       "      <th>tweet_text</th>\n",
       "      <th>cyberbullying_type</th>\n",
       "      <th>username</th>\n",
       "      <th>tag</th>\n",
       "    </tr>\n",
       "  </thead>\n",
       "  <tbody>\n",
       "    <tr>\n",
       "      <th>0</th>\n",
       "      <td>[1.337754559087443, 1.936558105888705, 3.59083...</td>\n",
       "      <td>not_cyberbullying</td>\n",
       "      <td>0.0</td>\n",
       "      <td>2.0</td>\n",
       "    </tr>\n",
       "    <tr>\n",
       "      <th>1</th>\n",
       "      <td>[3.151323785116178]</td>\n",
       "      <td>not_cyberbullying</td>\n",
       "      <td>0.0</td>\n",
       "      <td>10.0</td>\n",
       "    </tr>\n",
       "    <tr>\n",
       "      <th>2</th>\n",
       "      <td>[1.4323202070563597, 1.2780984626504281, 1.193...</td>\n",
       "      <td>not_cyberbullying</td>\n",
       "      <td>1.0</td>\n",
       "      <td>0.0</td>\n",
       "    </tr>\n",
       "    <tr>\n",
       "      <th>3</th>\n",
       "      <td>[0.8821450670966451, 0.5492859255906462, 0.578...</td>\n",
       "      <td>not_cyberbullying</td>\n",
       "      <td>1.0</td>\n",
       "      <td>0.0</td>\n",
       "    </tr>\n",
       "    <tr>\n",
       "      <th>4</th>\n",
       "      <td>[0.5467405016738519, 1.3447228503934152, 0.759...</td>\n",
       "      <td>not_cyberbullying</td>\n",
       "      <td>1.0</td>\n",
       "      <td>0.0</td>\n",
       "    </tr>\n",
       "  </tbody>\n",
       "</table>\n",
       "</div>"
      ],
      "text/plain": [
       "                                          tweet_text cyberbullying_type  \\\n",
       "0  [1.337754559087443, 1.936558105888705, 3.59083...  not_cyberbullying   \n",
       "1                                [3.151323785116178]  not_cyberbullying   \n",
       "2  [1.4323202070563597, 1.2780984626504281, 1.193...  not_cyberbullying   \n",
       "3  [0.8821450670966451, 0.5492859255906462, 0.578...  not_cyberbullying   \n",
       "4  [0.5467405016738519, 1.3447228503934152, 0.759...  not_cyberbullying   \n",
       "\n",
       "   username   tag  \n",
       "0       0.0   2.0  \n",
       "1       0.0  10.0  \n",
       "2       1.0   0.0  \n",
       "3       1.0   0.0  \n",
       "4       1.0   0.0  "
      ]
     },
     "execution_count": 2,
     "metadata": {},
     "output_type": "execute_result"
    }
   ],
   "source": [
    "df = pd.read_csv('/Users/tonix/PycharmProjects/pythonProject/Cyberbulling/csv/ready_data.csv')\n",
    "df.head()"
   ]
  },
  {
   "cell_type": "code",
   "execution_count": 3,
   "id": "79f2713c-c795-4369-9d07-13df78e24971",
   "metadata": {},
   "outputs": [],
   "source": [
    "# Labels\n",
    "labels = df.pop(\"cyberbullying_type\")"
   ]
  },
  {
   "cell_type": "code",
   "execution_count": 4,
   "id": "c1dc8a1b-4c9b-4ae0-b948-9de49fd4de69",
   "metadata": {},
   "outputs": [],
   "source": [
    "# Drop tags\n",
    "df.drop(['tag', 'username'],  axis=1, inplace=True)"
   ]
  },
  {
   "cell_type": "code",
   "execution_count": 5,
   "id": "fe60da87-8f2e-4bf3-b9ae-a2a9b49308df",
   "metadata": {},
   "outputs": [],
   "source": [
    "# >>> Creating input vectors"
   ]
  },
  {
   "cell_type": "code",
   "execution_count": 6,
   "id": "181c9395-c1f1-480c-ae71-b6c883e18de9",
   "metadata": {},
   "outputs": [],
   "source": [
    "df['tweet_text'] = df['tweet_text'].apply(lambda x: ast.literal_eval(x))"
   ]
  },
  {
   "cell_type": "code",
   "execution_count": 7,
   "id": "bac1956e-527d-4094-bb37-8dd0474e1d42",
   "metadata": {},
   "outputs": [],
   "source": [
    "input_vectors = [np.array(list) for list in df['tweet_text']]"
   ]
  },
  {
   "cell_type": "code",
   "execution_count": 8,
   "id": "37900f85-af30-4eab-a5f5-fe8ba78a65d7",
   "metadata": {},
   "outputs": [],
   "source": [
    "# Train and test split \n",
    "x_train, x_test, y_train, y_test = train_test_split(input_vectors, labels, test_size=0.25, random_state=42)"
   ]
  },
  {
   "cell_type": "code",
   "execution_count": 9,
   "id": "88625e61-6231-442b-9681-e135ff4a42e6",
   "metadata": {},
   "outputs": [],
   "source": []
  },
  {
   "cell_type": "code",
   "execution_count": 26,
   "id": "3b17fb5d-f533-4ef4-998a-bc430d54edad",
   "metadata": {},
   "outputs": [
    {
     "ename": "SyntaxError",
     "evalue": "invalid syntax (1821345968.py, line 1)",
     "output_type": "error",
     "traceback": [
      "\u001b[0;36m  Cell \u001b[0;32mIn[26], line 1\u001b[0;36m\u001b[0m\n\u001b[0;31m    model =\u001b[0m\n\u001b[0m            ^\u001b[0m\n\u001b[0;31mSyntaxError\u001b[0m\u001b[0;31m:\u001b[0m invalid syntax\n"
     ]
    }
   ],
   "source": [
    "model = "
   ]
  },
  {
   "cell_type": "code",
   "execution_count": null,
   "id": "69631dce-0a44-4c4b-8568-b614b835c282",
   "metadata": {},
   "outputs": [],
   "source": []
  }
 ],
 "metadata": {
  "kernelspec": {
   "display_name": "Python 3 (ipykernel)",
   "language": "python",
   "name": "python3"
  },
  "language_info": {
   "codemirror_mode": {
    "name": "ipython",
    "version": 3
   },
   "file_extension": ".py",
   "mimetype": "text/x-python",
   "name": "python",
   "nbconvert_exporter": "python",
   "pygments_lexer": "ipython3",
   "version": "3.11.5"
  }
 },
 "nbformat": 4,
 "nbformat_minor": 5
}
